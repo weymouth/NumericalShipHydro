{
 "cells": [
  {
   "cell_type": "markdown",
   "metadata": {},
   "source": [
    "# Numerical Panel Methods 🚢 \n",
    "\n",
    "In the first notebook we studied\n",
    "\n",
    " 1. _How can we calculate the influence of each panel?_ **Gaussian quadratures.**\n",
    " 2. _How should we compute the derivatives of our functions?_ **Automatic differentiation.**\n",
    "\n",
    "In this notebook we will actually start solving p-flow problems with panels methods addressing two more questions: \n",
    "\n",
    " 3. _How can we determine the correct strength for each panel?_ **Set-up and solve a linear system.**\n",
    " 4. _How should we determine if a method is working?_ **Convergence and validation tests.** "
   ]
  },
  {
   "cell_type": "markdown",
   "metadata": {},
   "source": [
    "## 3D example: sphere\n",
    "\n",
    "To get started, let's set up a example problem: the 3D example of the flow around a sphere.\n",
    "\n",
    "The `sphere` function below creates a vector of panels using the parametric equation equation \n",
    "\n",
    "$$ [S_x,S_y,S_z] = R[\\cos(θ₂)\\sin(θ₁),\\sin(θ₂)\\sin(θ₁),\\cos(θ₁)] $$\n",
    "\n",
    "where `θ₁,θ₂` are the azimuth and polar angles."
   ]
  },
  {
   "cell_type": "code",
   "execution_count": null,
   "metadata": {},
   "outputs": [],
   "source": [
    "include(\"../src/solve.jl\")\n",
    "using Plots\n",
    "\"\"\"\n",
    "    sphere(h;R=1) -> Table(panel_props)\n",
    "\n",
    "Sample a sphere of radius `R` such that the arc-length ≈ h in each direction.\n",
    "θ₁=[0,π]: azimuth angle, θ₂=[0,2π]: polar angle.\n",
    "\"\"\"\n",
    "function sphere(h;R=1)\n",
    "    S(θ₁,θ₂) = R .* [cos(θ₂)*sin(θ₁),sin(θ₂)*sin(θ₁),cos(θ₁)]\n",
    "    dθ₁ = π/round(π*R/h)\n",
    "    # dθ₂ = 2π/round(2π*a/h) evenly space polars?\n",
    "    mapreduce(vcat,0.5dθ₁:dθ₁:π) do θ₁\n",
    "        dθ₂ = 2π/round(2π*R*sin(θ₁)/h) # get polar step at this azimuth\n",
    "        param_props.(S,θ₁,0.5dθ₂:dθ₂:2π,dθ₁,dθ₂)\n",
    "    end |> Table\n",
    "end\n",
    "\n",
    "# Create the panels and check how many of them were made\n",
    "h = 0.5; panels = sphere(h); N=length(panels)\n",
    "\n",
    "# Split the centroids (`panels.x`) into  `x,y,z` vectors for plotting\n",
    "x,y,z = eachrow(stack(panels.x));\n",
    "plot(x,y,z,legend=false,title=\"Sphere represented with $N panels\")"
   ]
  },
  {
   "cell_type": "markdown",
   "metadata": {},
   "source": [
    "The function sets the azimuth and polar spacings so each panel's arc length is approximately $h$. Then, it evaluates the function `S(θ₁,θ₂)` at those spacings, filling a vector with all the panel information using the `param_props` function defined in `solve.jl`. \n",
    "\n",
    "I've set $h=1/2$ and left the $R=1$ default. Let's check if the area's add up to 4π and they are all approximately $h^2$"
   ]
  },
  {
   "cell_type": "code",
   "execution_count": null,
   "metadata": {},
   "outputs": [],
   "source": [
    "# Check the areas `panels.dA`\n",
    "A_error = sum(panels.dA)/4π-1\n",
    "A_percent = round(100A_error,digits=1)\n",
    "plot(z,panels.dA/h^2,ylim=(0,2),xlabel=\"z\",ylabel=\"dA/h²\",\n",
    "    legend=false, title=\"Error in total surface area=$A_percent%\")"
   ]
  },
  {
   "cell_type": "markdown",
   "metadata": {},
   "source": [
    "Looks good. \n",
    "\n",
    "Note that the number of panels is approximately $N\\approx 4\\pi R^2/h^2$. This shows that $N \\sim 1/h^2$, which we might worry us as we start thinking about how to solve for the flow on these panels."
   ]
  },
  {
   "cell_type": "markdown",
   "metadata": {},
   "source": [
    "## Total flow equations\n",
    "\n",
    "The potential of the full sphere is simply the superposition of each panel's contribution,\n",
    "\n",
    "$$ \\phi(x) = \\sum_{i=1}^N q_i \\varphi_i(x) $$\n",
    "\n",
    "where $N$ is the number of panels, $q$ is the vector of **unknown** panel strengths and $\\varphi_i$ is influence of panel $i$.\n",
    "\n",
    "Since we used a $G$ satisfying $\\nabla^2 G=0$ and this equation is linear, _any_ vector $q$ will satisfy the laplace equation $\\nabla^2\\phi=0$ and be a valid potential flow. This is nice since we can't mess that up, but it means we need an additional equation to determine the _correct_ $q$ for a given geometry and flow condition.\n",
    "\n",
    " 3. _How can we determine the correct $q$ for each panel?_ "
   ]
  },
  {
   "cell_type": "markdown",
   "metadata": {},
   "source": [
    "## Apply boundary conditions\n",
    "\n",
    "The additional equations from our problem description are the boundary conditions. Defining $\\vec U$ as the free stream velocity and $\\hat n$ as the surface normal, the conditions in an infinite fluid (no free surface) are\n",
    " - Flow tangency on the solid body's surface: $U_n+u_n = U_n+\\frac{\\partial\\phi}{\\partial n}=0$\n",
    " - No disturbance far from the body: $u(\\infty)\\rightarrow 0$ \n",
    "\n",
    "The second condition is achieved automatically since $u(r) \\sim \\frac{\\partial G}{\\partial r} = 1/r^2$. Therefore, the first condition must be used to set $q$.\n",
    "\n",
    "Substituting the equation for $\\phi$ into the body BC, we have\n",
    "\n",
    "$$ \\vec U \\cdot \\hat n(\\vec S) + \\sum_{j=1}^N \\frac{\\partial\\varphi_j}{\\partial n}(\\vec S) q_j = 0$$\n",
    "\n",
    "This boundary condition is linear in $q$ and applies to every point on the body surface. Applying the boundary condition at $N$ specific locations will create $N$ linear equations of the $N$ unknown components of $q$. We will choose the centroid $\\vec c$ of each panel to apply this condition. Defining \n",
    "\n",
    "$$ a_{i,j} = \\frac{\\partial\\varphi_j}{\\partial n}(\\vec c_i), \\quad b_i = -\\vec U \\cdot \\hat n(\\vec c_i) $$\n",
    "\n",
    "as the components of the influence matrix $A$ and the excitation vector $b$, we have\n",
    "\n",
    "$$\\sum_{j=1}^N a_{i,j} q_j = b_i \\quad i=1\\ldots N$$\n",
    "\n",
    "or simply $Aq = b$. So, _how can we determine the correct $q$ for each panel?_ Construct $A,b$ and type\n",
    "\n",
    "```julia\n",
    "q = A\\b\n",
    "```"
   ]
  },
  {
   "cell_type": "code",
   "execution_count": null,
   "metadata": {},
   "outputs": [],
   "source": [
    "# dot product of U and `pᵢ.n`\n",
    "U = [1,0,0]\n",
    "Uₙ(pᵢ) = U ⋅ pᵢ.n\n",
    "\n",
    "# derivative of ϕⱼ in direction pᵢ.n\n",
    "∂ₙϕ(pᵢ,pⱼ) = derivative(t->ϕ(pᵢ.x+t*pᵢ.n,pⱼ),0.)\n",
    "\n",
    "# Construct A,b\n",
    "### permutedims(panels) has dimension 1xN\n",
    "A,b = ∂ₙϕ.(panels,permutedims(panels)),-Uₙ.(panels)\n",
    "\n",
    "# solve & check that it worked\n",
    "q = A \\ b\n",
    "A*q ≈ b"
   ]
  },
  {
   "cell_type": "markdown",
   "metadata": {},
   "source": [
    "## Convergence and validation\n",
    "\n",
    "We got the solution to the linear system we created, but was that the right system? And how accurate is the solution?\n",
    "\n",
    "4. _How should we determine if a method is working?_ \n",
    "\n",
    "First, lets do a sanity check on the matrix and excitation vector."
   ]
  },
  {
   "cell_type": "code",
   "execution_count": null,
   "metadata": {},
   "outputs": [],
   "source": [
    "plt1=heatmap(A,yflip=true,colorbar_title=\"A\")\n",
    "plt2=heatmap(inv.(A),yflip=true,colorbar_title=\"inv.(A)\")\n",
    "plot(plt1,plt2,layout=(1,2),size=(550,200))"
   ]
  },
  {
   "cell_type": "markdown",
   "metadata": {},
   "source": [
    "The matrix is diagonally dominated with a value around 6, and the off diagonals get as small as 1/15. Does that make sense?\n",
    "\n",
    "The diagonal values is the self-induced velocity of the panel in the normal direction. We found earlier that this is exactly $u_n/q = 2\\pi$ so the diagonal magnitude looks right.\n",
    "\n",
    "The off diagonals are the influence of one panel on another. The smallest values will be antipodes, at a distance of $2R$. Then $u_n/q \\approx (h/2R)^2 = 1/16$, so this matches as well."
   ]
  },
  {
   "cell_type": "code",
   "execution_count": null,
   "metadata": {},
   "outputs": [],
   "source": [
    "plot(x,b,xlabel=\"x/R\",ylabel=\"b/U\")"
   ]
  },
  {
   "cell_type": "markdown",
   "metadata": {},
   "source": [
    "The $b$ vector also looks correct, since $U_n = n_x = x/R$ for the sphere as we set $U=[1,0,0]$. \n",
    "\n",
    "---\n",
    "\n",
    "Next, lets **validate** the method, comparing the numerical solution to a known exact solution.\n",
    "\n",
    "The analytic potential flow surface velocity on the sphere is\n",
    "\n",
    "$$ u_\\alpha = \\frac 32 U \\sin(\\alpha) $$\n",
    "\n",
    "where $\\alpha$ is the angle of the surface point with respect to the flow direction. \n",
    "\n",
    "The numerical solution's velocity is \n",
    "\n",
    "$$ \\vec u = \\vec U + \\vec\\nabla\\phi$$"
   ]
  },
  {
   "cell_type": "code",
   "execution_count": null,
   "metadata": {},
   "outputs": [],
   "source": [
    "# Functions to compute disturbance potential and velocity\n",
    "φ(x,q,panels) = q'*ϕ.(Ref(x),panels)\n",
    "∇φ(x,q,panels) = gradient(x->φ(x,q,panels),x)\n",
    "\n",
    "# Total velocity function\n",
    "velocity(x,q,panels) = U+∇φ(x,q,panels)\n",
    "\n",
    "# Get velocity on the panel centroids\n",
    "### `map` a function to each element of an array\n",
    "uₐ = map(x->√sum(abs2,velocity(x,q,panels)),panels.x)\n",
    "α = acos.(b) # acos(n_x)\n",
    "\n",
    "plot(0:0.01:π,x->1.5sin(x),label=\"exact\",xlabel=\"α\",ylabel=\"uₐ\")\n",
    "scatter!(α,uₐ,label=\"$N panels\")"
   ]
  },
  {
   "cell_type": "markdown",
   "metadata": {},
   "source": [
    "Not bad, but there is some error.\n",
    "\n",
    "**_What type of error is this?_**\n",
    " 1. System description\n",
    " 2. Modelling\n",
    " 3. Truncation\n",
    " 3. Finite precision\n",
    " 3. Human"
   ]
  },
  {
   "cell_type": "code",
   "execution_count": null,
   "metadata": {},
   "outputs": [],
   "source": [
    "# Reduce h: set-up -> solve -> measure\n",
    "panels = sphere(0.3)\n",
    "A,b = ∂ₙϕ.(panels,permutedims(panels)),-Uₙ.(panels)\n",
    "q = A \\ b\n",
    "uₐ = map(x->√sum(abs2,velocity(x,q,panels)),panels.x)\n",
    "α = acos.(b); N = length(α)\n",
    "scatter!(α,uₐ,label=\"$N panels\")"
   ]
  },
  {
   "cell_type": "markdown",
   "metadata": {},
   "source": [
    "Excellent. We see **convergence** to the exact solution as we reduce $h$. This confirms we have a small & controllable truncation error. \n",
    "\n",
    "We can further quantify this error by computing a relevant integrated quantity. The added mass matrix is a good choice for potential flows, which is defined as \n",
    "\n",
    "$$ m_{i,j} = -\\rho\\oint_S \\tilde\\phi_i n_j da $$\n",
    "\n",
    "where $\\rho$ is the fluid desity and $\\tilde\\phi_i$ is the scaled potential resulting from unit velocity in direction $i$. The forces due to an acceleration vector $a$ are then $f = Ma$.\n",
    "\n",
    "The analytic solution for a sphere is $m_{i,i} = \\frac 23 \\rho \\pi R^3$ on the diagonal and zero for the off diagonals. How does our numerical method perform?"
   ]
  },
  {
   "cell_type": "code",
   "execution_count": null,
   "metadata": {},
   "outputs": [],
   "source": [
    "function added_mass(panels)\n",
    "    A = ∂ₙϕ.(panels,permutedims(panels))\n",
    "    B = stack(panels.n)' # all three excitations\n",
    "    Q = A \\ B            # solve for all three q's\n",
    "    -sum(p->φ(p.x,Q,panels)*p.n'*p.dA,panels)\n",
    "end\n",
    "added_mass(panels)/(2π/3) # scale by exact solution"
   ]
  },
  {
   "cell_type": "markdown",
   "metadata": {},
   "source": [
    "Notice the off diagonals are near machine precision zero. \n",
    "\n",
    "Finally lets make a convergence plot with $h$"
   ]
  },
  {
   "cell_type": "code",
   "execution_count": null,
   "metadata": {},
   "outputs": [],
   "source": [
    "using LinearAlgebra: tr # trace of a matrix\n",
    "sphere_ma_error(h) = 100tr(added_mass(sphere(h)))/2π-100\n",
    "plot(0.1:0.05:0.5,sphere_ma_error,label=nothing,xlabel=\"h/R\",\n",
    "        ylabel=\"trace(M) % error\")"
   ]
  },
  {
   "cell_type": "markdown",
   "metadata": {},
   "source": [
    "We see that the error is $\\le 1\\%$ for $h/R<0.4$ and converges to zero as $h$ reduces.\n",
    "\n",
    "## Summary"
   ]
  }
 ],
 "metadata": {
  "kernelspec": {
   "display_name": "Julia 1.10.0",
   "language": "julia",
   "name": "julia-1.10"
  },
  "language_info": {
   "file_extension": ".jl",
   "mimetype": "application/julia",
   "name": "julia",
   "version": "1.10.0"
  }
 },
 "nbformat": 4,
 "nbformat_minor": 2
}
