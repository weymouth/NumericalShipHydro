{
 "cells": [
  {
   "cell_type": "markdown",
   "metadata": {},
   "source": [
    "# Numerical Panel Methods 🚢 \n",
    "\n",
    "A panel method is a numerical approach to constructing potential flows around engineering shapes such as an offshore platform, sail or ship hull. Panel methods are typically fast enough for design iteration on 3D geometries, but they come with modelling and numerical errors that need to be quantified. \n",
    "\n",
    "Note that panel methods and Boundary Element Methods (BEM) are used interchangably by most users, but there are some technical differences. We will develop and use a panel method, but many of the concepts extend to BEMs.  \n",
    "\n",
    "## Method overview\n",
    "\n",
    "The basic steps of a potential flow panel method can be summarized as:\n",
    " 1. The boundaries of the fluid domain are given as an input and covered in small panels.\n",
    " 3. The total potential $\\varphi$ defined as the superposition of each panel's influence $\\phi$ scaled by an unknown strength $q$.\n",
    " 2. The strengths are determined such that the flow boundary conditions, such as the normal velocity condition $U_n=\\frac{\\partial\\varphi}{\\partial n}$, are satisfied on every panel.\n",
    " 4. With the potential now defined, any quantity of interest can be measured, such as the surface pressure $p$ using $\\vec u=\\vec\\nabla\\varphi$ and the Bernoulli equation. \n",
    "\n",
    "In order to acheive this we need to address some numerical questions:\n",
    " 1. _How can we calculate the influence of each panel $\\phi$?_ **Gaussian quadratures.**\n",
    " 2. _How should we compute the derivatives of $\\phi$ and other functions?_ **Automatic differentiation.**\n",
    " 3. _How can we find the optimal $q$ for each panel?_ **Set-up and solve a linear system.**\n",
    " 4. _How should we determine if a method is working?_ **Convergence and validation tests.** "
   ]
  },
  {
   "cell_type": "markdown",
   "metadata": {},
   "source": [
    "## Potential of a source panel 🚰\n",
    "\n",
    "The velocity potential of a panel per unit strength (called the _influence_) is defined as\n",
    "\n",
    "$$ \\phi(\\vec x) = \\int\\int G(\\vec x,\\vec S(\\xi,\\zeta))\\ d\\xi d\\zeta $$\n",
    "\n",
    "where $S$ is the surface of the panel, described by coordinates $\\xi$ and $\\zeta$, and $G$ is the Green Function, which needs to be a solution of the laplace equations $\\nabla^2 G=0$. For every point $\\vec x$ where you want the potential, you must evaluate this double integral over the surface coordinates.\n",
    "\n",
    "The functions inside this integral are known: the geometry $S$ is _the_ input (a portion of a sphere, a bit of the hull defined by a spline, etc), and we will choose $G$ to be the source potential\n",
    "\n",
    "$$ G(\\vec x, \\vec a) = \\frac{-1}{|\\vec x-\\vec a|}$$\n",
    "\n",
    "Despite this, the integral for $\\phi$ is not analytically solvable, except for special-case $S$ shapes. This is in stark contrast to derivatives! If we had $\\phi=\\frac{\\partial}{\\partial \\xi} G(x,S(\\xi,\\zeta))$ we would have no problem carrying out this derivative using the chain rule, even for complex shapes. Integrals don't have an equivalent rule that always works!"
   ]
  },
  {
   "cell_type": "markdown",
   "metadata": {},
   "source": [
    "## Numerical integration quadratures\n",
    "\n",
    "Numerical approximations to integrals are called _quadratures_. Consider the integral \n",
    "\n",
    "$$ F = \\int_{-h/2}^{h/2} f(x) dx $$\n",
    "\n",
    "You're already familiar with many example quadratures:\n",
    " - mid-point rule: $F \\approx h f(0)$\n",
    " - trapezoid rule: $F \\approx \\frac h2 [f(-h/2)+f(h/2)]$\n",
    " - Simpson's rule: $F \\approx \\frac h6 [f(-h/2)+4f(0)+f(h/2)]$\n",
    "\n",
    "These algorythms are _really_ straightforward (similar to the chain rule) but they require 1,2 and 3 function evaluations, respectively. How much more accuracy are we getting for the increased amount of work? We can determine this by expressing $f$ in terms of it's Taylor series\n",
    "\n",
    "$$ f(x) = f_0+\\frac x2 f_0' + \\frac{x^2}6 f_0'' + \\frac{x^3}{12} f_0''' + \\ldots $$\n",
    "\n",
    "where subscript 0 denotes evaluation at $x=0$ and each tick $'$ indicates a derivative. Substitution into the integral and algebraic manipulation gives:\n",
    " - mid-point: $F = hf_0 + \\frac 1{24} h^3 f_0'' + O(h^4)$\n",
    " - trapezoid: $F = \\frac h2 [f(-h/2)+f(h/2)] -\\frac 1{12}h^3 f_0''+O(h^4)$\n",
    " - Simpson's: $F = \\frac h6 [f(-h/2)+4f(0)+f(h/2)] + O(h^4)$\n",
    "\n",
    "where $O(h^4)$ means all the following terms are proportional to $h$ to the power of 4 or greater. Since our rules don't include these additional terms, our quadratures have a well-defined _numerical error_.\n",
    "\n",
    "<div class=\"alert alert-success\">\n",
    "<b> Type 3: Numerical Truncation Error </b>\n",
    "\n",
    "Errors due to truncating an infinite series at some power of the step length $h$\n",
    "</div>\n",
    "\n",
    "Unlike system description errors or modelling errors, numerical truncation errors can be well estimated and controlled without access to the \"true\" result. We can see that the simple midpoint rule is quite accurate: **as long as the function is smooth such that the derivatives don't blow up, a small value of $h$ will make $h^3 f''$ negligible**. Surprisingly, the trapezoid rule _doubles_ the error of the midpoint rule and doubles evaluations, so it's not a good choice.\n",
    "\n",
    "The midpoint rule applied to our green's function influence integral gives:\n",
    "\n",
    "$$ \\phi(\\vec x) \\approx \\frac{-A}{G(\\vec x,\\vec S_0)} $$\n",
    "\n",
    "where $A$ and $\\vec S_0$ are the area and centroid of the panel. Note that is just a point-source located at the panel centroid with $s=A$.\n",
    "\n",
    "_Q: In what cases will this approximation will be accurate, and when will it have large error?_"
   ]
  },
  {
   "cell_type": "markdown",
   "metadata": {},
   "source": [
    "### Julia coding example\n",
    "\n",
    "Let's answer this question using an example: a 2D point source $G=\\frac 12 \\log(x^2)$ integrated on panels covering the x axis.\n",
    "\n",
    "⚠️ WARNING ⚠️: This part of the course uses Julia, not Python or MATLAB. Julia has a bunch of advantages that help when writing a panel method. It's simple and flexible and [very fast](https://julialang.org/benchmarks/) at numerical computing!\n",
    "![Julia benchmarks](https://julialang.org/assets/images/benchmarks.svg)\n",
    "\n",
    "The syntax is similar to Python and MATLAB and here is a list of [note-worthy differences between Julia and other languages](https://web.mit.edu/julia_v0.6.2/julia/share/doc/julia/html/en/manual/noteworthy-differences.html) to help you make the switch. The code below is a good example of basic Julia syntax, and I've added extra comments to explain each step. "
   ]
  },
  {
   "cell_type": "code",
   "execution_count": null,
   "metadata": {},
   "outputs": [],
   "source": [
    "# First define the functions we need\n",
    "### Look how easy this is in Julia! No more `def G(x): return stuff`\n",
    "G(x) = 0.5log(x^2)                 # 2D source at x₀=0\n",
    "G_int(x) = 0.5x*log(x^2)-x         # indefinite integral\n",
    "midpoint(f,a,b) = (b-a)*f((a+b)/2) # Midpoint rule for any function `f`\n",
    "\n",
    "# Next let's plot the Green's function\n",
    "### Plots is the basic plotting package for Julia\n",
    "using Plots \n",
    "plot(range(-1,1,50),G,label=\"G\",ylims=(-1.5,0),xlabel=\"x\")\n",
    "\n",
    "# Split up the x-axis into panels\n",
    "### The range function and slicing is like Python\n",
    "### but adding vectors works automatically\n",
    "x = range(-1,1,10) # \"panels\" running along x-axis\n",
    "scatter!(x,zero,shape=:vline,c=:black,label=\"panels\")\n",
    "a = x[1:end-1]     # lower limits of each panel\n",
    "b = x[2:end]       # upper limits\n",
    "m = (a+b)/2        # panel midpoint\n",
    "\n",
    "# Finally, we can compare the exact and numeric panel integrals\n",
    "### The `f.(x)` syntax \"broadcasts\" the function over input vectors\n",
    "### similar to a list comprehension.\n",
    "exact = G_int.(b) - G_int.(a) # same as [G_int(aᵢ)-G_int(bᵢ) for (aᵢ,bᵢ) in zip(a,b)]\n",
    "numeric = midpoint.(G,a,b)    # same as [midpoint(G,aᵢ,bᵢ) for (aᵢ,bᵢ) in zip(a,b)]\n",
    "scatter!(m,exact,label=\"Exact integral\")\n",
    "scatter!(m,numeric,alpha=0.5,label=\"Midpoint rule\")"
   ]
  },
  {
   "cell_type": "markdown",
   "metadata": {},
   "source": [
    "The exact integral and the midpoint rule results are directly on top of each other at the edges of the range. However, as $|x|\\rightarrow 0$, the value of $|G''|\\rightarrow \\infty$ and the error becomes noticable. Because $G_0=-\\infty$ the midpoint rule is singular despite the fact that the true integral is well defined."
   ]
  },
  {
   "cell_type": "markdown",
   "metadata": {},
   "source": [
    "## Gaussian quadratures\n",
    "\n",
    "So the midpoint rule is sufficient as long as we are not too close to the singularity, i.e. $|\\vec x-\\vec S|>>h$. However, we need a better approximation near $\\vec S_0$. Looking at the list above, we can see the trapezoid rule actually _doubles_ the error of the midpoint rule, and the Simpson's rule won't work because it evaluates at the singular point $G_0$. \n",
    "\n",
    "[Gaussian quadratures](https://en.wikipedia.org/wiki/Gaussian_quadrature) are family of simple integration rules which are **much** more accurate than the rules above, and are used in engineering software such as finite element methods. A Gaussian quadrature requires evaluating the function at $N$ special points $x_i$ (instead of simple fractions of $h$) and computing their sum with weights $w_i$.\n",
    "\n",
    " - Gauss quadrature rule: $F = \\int_{-1}^{1} f(x) dx \\approx \\sum_{i=1}^n w_i f(x_i)$\n",
    "\n",
    "The error is proportional to $h^{2n+1}f^{(2n)}$, so every additional point scales the error down by $h^2$ for smooth functions!\n",
    "\n",
    "![2-point Gauss quadrature](https://upload.wikimedia.org/wikipedia/commons/9/93/Comparison_Gaussquad_trapezoidal.svg)\n",
    "\n",
    "As illustrated in this figure, the 2-point quadrature uses $x=[\\frac{-1}{\\sqrt{3}},\\frac{1}{\\sqrt{3}}]$ with $w=[1,1]$ and exactly integrates any cubic (since $f^{(4)}=0$ for a cubic). \n",
    "\n",
    "Let's try this on our example problem:"
   ]
  },
  {
   "cell_type": "code",
   "execution_count": null,
   "metadata": {},
   "outputs": [],
   "source": [
    "# Define the Gauss-Legendre points and weights\n",
    "### `w'` is the transpose of the weight vector, \n",
    "### and `w'*v = w₁v₁+w₂v₂+...` is the inner product\n",
    "xgl,wgl = [-1/√3,1/√3],[1,1]\n",
    "quadgl(f;x=xgl,w=wgl) = w'*f.(x) # same as sum(wᵢ*f(xᵢ) for (xᵢ,wᵢ) in zip(x,w))\n",
    "\n",
    "# Convert the range from [-1,1] to [a,b]\n",
    "### This gives an example of how multi-line functions are defined\n",
    "### as well as in-place functions like `x->g(2x)`\n",
    "function quadgl_ab(f,a,b)\n",
    "    h,j = (b-a)/2,(a+b)/2 # spacing and center\n",
    "    h*quadgl(t->f(j+h*t))\n",
    "end\n",
    "\n",
    "# Apply to the example\n",
    "gauss = quadgl_ab.(G,a,b)\n",
    "plot(range(-1,1,50),G,label=\"G\",ylims=(-1.5,0),xlabel=\"x\")\n",
    "scatter!(x,zero,shape=:vline,c=:black,label=\"panels\")\n",
    "scatter!(m,exact,label=\"Exact integral\")\n",
    "scatter!(m,numeric,alpha=0.5,label=\"Midpoint rule\")\n",
    "scatter!(m,gauss,alpha=0.5,label=\"2-point Gauss\")"
   ]
  },
  {
   "cell_type": "markdown",
   "metadata": {},
   "source": [
    "The 2-point Gaussian quadrature requires two function evaluations, but the results for all  $x\\ne 0$ are nearly perfect. The estimate on the center panel is finite (yay!) and it's error is proportional to $h$. \n",
    "\n",
    "Based on this, our simple panel method will use the midpoint rule for all $|x-S_0|>3h$, and a 2-point quadrature in both $\\xi$ and $\\zeta$ (requiring 2x2=4 function evaluations) otherwise."
   ]
  },
  {
   "cell_type": "markdown",
   "metadata": {},
   "source": [
    "## Velocity influence\n",
    "\n",
    "Now that the panel influence potential is defined, it's influence on the velocity is $\\vec \\nabla \\phi$.\n",
    "\n",
    "_Q: How should we approximate these derivatives numerically?_   \n",
    " 1. Try to hand-calculate the derivatives and code them without messing up\n",
    " 2. Use finite differences and accept surprisingly big numerical errors\n",
    " 3. Let the computer compute the analytic derivatives for us\n",
    "\n",
    "The third option sounds magical at first, but the derivative rules are very simple algorithms like: \n",
    "\n",
    "$$ (f(g(x)))' = f'(g(x)) g'(x) $$\n",
    "\n",
    "Letting the computer do this work for you is called [automatic differentiation](https://www.ams.org/publicoutreach/feature-column/fc-2017-12) or AutoDiff. Julia *is* fast, but a huge reason to use it is that **all Julia code is differentiable**. \n",
    "\n",
    "Let's test out all three options on our 2D source example:"
   ]
  },
  {
   "cell_type": "code",
   "execution_count": null,
   "metadata": {},
   "outputs": [],
   "source": [
    "using ForwardDiff: derivative\n",
    "dG_hand(x) = 1/x # (0.5log(x²))' = 0.5log'(x²)*(x²)' = 0.5/x²*2x = 1/x\n",
    "dG_finite(x;e=eps()) = (G(x+e)-G(x-e))/2e ### eps() is the smallest floating point number\n",
    "dG_auto(x) = derivative(G,x) # Whew! Hard work!!\n",
    "plot(range(-1,1,50),dG_hand,xlabel=\"x\",label=\"By hand\",ylims=(-10,10))\n",
    "scatter!(range(-1,1,12),dG_finite,ls=:dashdot,label=\"FiniteDiff\")\n",
    "scatter!(range(-1,1,12),dG_auto,ls=:dash,alpha=0.5,label=\"AutoDiff\")"
   ]
  },
  {
   "cell_type": "markdown",
   "metadata": {},
   "source": [
    "The finite difference results are surprisingly bad! We've used the smallest step possible, but we have not converged to the analytic derivative produced by the other two methods. This is a second type of numerical error:\n",
    "\n",
    "<div class=\"alert alert-success\">\n",
    "<b> Type 4: Numerical Floating Point Error </b>\n",
    "\n",
    "Errors due to representing real numbers with a finite precision binary number\n",
    "</div>\n",
    "\n",
    "While a [double-precision number](https://en.wikipedia.org/wiki/Floating-point_arithmetic) (the Julia default) is typically fine, finite differences over small intervals become unstable due to rounding.\n",
    "\n",
    "In contrast, **the AutoDiff results are exact** to double precision while avoiding potential blunders in our hand calculation and potential bugs in our code. Clearly, we'll use AutoDiff in this solver."
   ]
  },
  {
   "cell_type": "markdown",
   "metadata": {},
   "source": [
    "## Linear system of equations\n",
    "\n",
    "The potential of the full surface is simply the superposition of each panels contribution,\n",
    "\n",
    "$$ \\varphi(x) = \\sum_{i=1}^N q_i \\phi_i(x) $$\n",
    "\n",
    "where $N$ is the number of panels, $q$ is the vector of **unknown** panel strengths and $\\phi_i$ is influence of panel $i$.\n",
    "\n",
    "The strengths are set such that the normal velocity through the surface is zero. "
   ]
  },
  {
   "cell_type": "markdown",
   "metadata": {},
   "source": [
    "## Near-panel velocity\n",
    "\n",
    "The velocity induced on the panel itself is especially important to get correct, so we need to overwrite the quadrature rule in this case.\n",
    "\n",
    "The flow induced by a panel with $q=1$ evaluated far from $S_0$ is the same as a point source with $s=A$ and so the outward flux $Q=4\\pi A$. The flow is incompressible, so exactly the same flux is emerging from both the front and back faces of the panel, meaning the face-normal velocity at the panel must be \n",
    "\n",
    "$$u_n = Q/2A=2\\pi$$\n",
    "\n",
    "and this is value used in the solver when $x=S_0$."
   ]
  },
  {
   "cell_type": "code",
   "execution_count": null,
   "metadata": {},
   "outputs": [],
   "source": []
  }
 ],
 "metadata": {
  "kernelspec": {
   "display_name": "Julia 1.10.0",
   "language": "julia",
   "name": "julia-1.10"
  },
  "language_info": {
   "file_extension": ".jl",
   "mimetype": "application/julia",
   "name": "julia",
   "version": "1.10.0"
  }
 },
 "nbformat": 4,
 "nbformat_minor": 2
}
